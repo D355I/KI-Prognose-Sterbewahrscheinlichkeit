{
 "cells": [
  {
   "cell_type": "code",
   "execution_count": 2,
   "metadata": {},
   "outputs": [],
   "source": [
    "import numpy as np\n",
    "import tensorflow as tf\n",
    "from tensorflow import keras\n",
    "import pandas as pd\n",
    "import sklearn\n",
    "from sklearn.model_selection import train_test_split\n",
    "from keras.models import Sequential\n",
    "from keras.layers import Dense, Dropout, Input"
   ]
  },
  {
   "cell_type": "code",
   "execution_count": 3,
   "metadata": {},
   "outputs": [],
   "source": [
    "df = pd.read_csv('/Users/jonathan.bach/Documents/UNI/DataLiteracy/kitrainINTCSV.csv', sep = \";\")"
   ]
  },
  {
   "cell_type": "code",
   "execution_count": 4,
   "metadata": {},
   "outputs": [
    {
     "data": {
      "text/html": [
       "<div>\n",
       "<style scoped>\n",
       "    .dataframe tbody tr th:only-of-type {\n",
       "        vertical-align: middle;\n",
       "    }\n",
       "\n",
       "    .dataframe tbody tr th {\n",
       "        vertical-align: top;\n",
       "    }\n",
       "\n",
       "    .dataframe thead th {\n",
       "        text-align: right;\n",
       "    }\n",
       "</style>\n",
       "<table border=\"1\" class=\"dataframe\">\n",
       "  <thead>\n",
       "    <tr style=\"text-align: right;\">\n",
       "      <th></th>\n",
       "      <th>Geschlecht</th>\n",
       "      <th>Altersgruppe &lt;1</th>\n",
       "      <th>Altersgruppe 1-15</th>\n",
       "      <th>Altersgruppe 15-20</th>\n",
       "      <th>Altersgruppe 20-25</th>\n",
       "      <th>Altersgruppe 25-30</th>\n",
       "      <th>Altersgruppe 30-35</th>\n",
       "      <th>Altersgruppe 35-40</th>\n",
       "      <th>Altersgruppe 40-45</th>\n",
       "      <th>Altersgruppe 45-50</th>\n",
       "      <th>...</th>\n",
       "      <th>Krankheit_72</th>\n",
       "      <th>Krankheit_73</th>\n",
       "      <th>Krankheit_74</th>\n",
       "      <th>Krankheit_75</th>\n",
       "      <th>Krankheit_76</th>\n",
       "      <th>Krankheit_77</th>\n",
       "      <th>Krankheit_78</th>\n",
       "      <th>Krankheit_79</th>\n",
       "      <th>Krankheit_80</th>\n",
       "      <th>Krankheit_81</th>\n",
       "    </tr>\n",
       "  </thead>\n",
       "  <tbody>\n",
       "    <tr>\n",
       "      <th>0</th>\n",
       "      <td>1</td>\n",
       "      <td>1</td>\n",
       "      <td>0</td>\n",
       "      <td>0</td>\n",
       "      <td>0</td>\n",
       "      <td>0</td>\n",
       "      <td>0</td>\n",
       "      <td>0</td>\n",
       "      <td>0</td>\n",
       "      <td>0</td>\n",
       "      <td>...</td>\n",
       "      <td>0</td>\n",
       "      <td>0</td>\n",
       "      <td>0</td>\n",
       "      <td>0</td>\n",
       "      <td>0</td>\n",
       "      <td>0</td>\n",
       "      <td>0</td>\n",
       "      <td>0</td>\n",
       "      <td>0</td>\n",
       "      <td>0</td>\n",
       "    </tr>\n",
       "    <tr>\n",
       "      <th>1</th>\n",
       "      <td>1</td>\n",
       "      <td>1</td>\n",
       "      <td>0</td>\n",
       "      <td>0</td>\n",
       "      <td>0</td>\n",
       "      <td>0</td>\n",
       "      <td>0</td>\n",
       "      <td>0</td>\n",
       "      <td>0</td>\n",
       "      <td>0</td>\n",
       "      <td>...</td>\n",
       "      <td>0</td>\n",
       "      <td>0</td>\n",
       "      <td>0</td>\n",
       "      <td>0</td>\n",
       "      <td>0</td>\n",
       "      <td>0</td>\n",
       "      <td>0</td>\n",
       "      <td>0</td>\n",
       "      <td>0</td>\n",
       "      <td>0</td>\n",
       "    </tr>\n",
       "  </tbody>\n",
       "</table>\n",
       "<p>2 rows × 100 columns</p>\n",
       "</div>"
      ],
      "text/plain": [
       "   Geschlecht  Altersgruppe <1  Altersgruppe 1-15  Altersgruppe 15-20  \\\n",
       "0           1                1                  0                   0   \n",
       "1           1                1                  0                   0   \n",
       "\n",
       "   Altersgruppe 20-25  Altersgruppe 25-30  Altersgruppe 30-35  \\\n",
       "0                   0                   0                   0   \n",
       "1                   0                   0                   0   \n",
       "\n",
       "   Altersgruppe 35-40  Altersgruppe 40-45  Altersgruppe 45-50  ...  \\\n",
       "0                   0                   0                   0  ...   \n",
       "1                   0                   0                   0  ...   \n",
       "\n",
       "   Krankheit_72  Krankheit_73  Krankheit_74  Krankheit_75  Krankheit_76  \\\n",
       "0             0             0             0             0             0   \n",
       "1             0             0             0             0             0   \n",
       "\n",
       "   Krankheit_77  Krankheit_78  Krankheit_79  Krankheit_80  Krankheit_81  \n",
       "0             0             0             0             0             0  \n",
       "1             0             0             0             0             0  \n",
       "\n",
       "[2 rows x 100 columns]"
      ]
     },
     "execution_count": 4,
     "metadata": {},
     "output_type": "execute_result"
    }
   ],
   "source": [
    "df.head(2)"
   ]
  },
  {
   "cell_type": "code",
   "execution_count": 5,
   "metadata": {},
   "outputs": [
    {
     "name": "stdout",
     "output_type": "stream",
     "text": [
      "<class 'pandas.core.frame.DataFrame'>\n",
      "RangeIndex: 2754 entries, 0 to 2753\n",
      "Data columns (total 100 columns):\n",
      " #   Column              Non-Null Count  Dtype\n",
      "---  ------              --------------  -----\n",
      " 0   Geschlecht          2754 non-null   int64\n",
      " 1   Altersgruppe <1     2754 non-null   int64\n",
      " 2   Altersgruppe 1-15   2754 non-null   int64\n",
      " 3   Altersgruppe 15-20  2754 non-null   int64\n",
      " 4   Altersgruppe 20-25  2754 non-null   int64\n",
      " 5   Altersgruppe 25-30  2754 non-null   int64\n",
      " 6   Altersgruppe 30-35  2754 non-null   int64\n",
      " 7   Altersgruppe 35-40  2754 non-null   int64\n",
      " 8   Altersgruppe 40-45  2754 non-null   int64\n",
      " 9   Altersgruppe 45-50  2754 non-null   int64\n",
      " 10  Altersgruppe 50-55  2754 non-null   int64\n",
      " 11  Altersgruppe 55-60  2754 non-null   int64\n",
      " 12  Altersgruppe 60-65  2754 non-null   int64\n",
      " 13  Altersgruppe 65-70  2754 non-null   int64\n",
      " 14  Altersgruppe 70-75  2754 non-null   int64\n",
      " 15  Altersgruppe 75-80  2754 non-null   int64\n",
      " 16  Altersgruppe 80-85  2754 non-null   int64\n",
      " 17  Altersgruppe 85<    2754 non-null   int64\n",
      " 18  Stirbt              2754 non-null   int64\n",
      " 19  Krankheit_1         2754 non-null   int64\n",
      " 20  Krankheit_2         2754 non-null   int64\n",
      " 21  Krankheit_3         2754 non-null   int64\n",
      " 22  Krankheit_4         2754 non-null   int64\n",
      " 23  Krankheit_5         2754 non-null   int64\n",
      " 24  Krankheit_6         2754 non-null   int64\n",
      " 25  Krankheit_7         2754 non-null   int64\n",
      " 26  Krankheit_8         2754 non-null   int64\n",
      " 27  Krankheit_9         2754 non-null   int64\n",
      " 28  Krankheit_10        2754 non-null   int64\n",
      " 29  Krankheit_11        2754 non-null   int64\n",
      " 30  Krankheit_12        2754 non-null   int64\n",
      " 31  Krankheit_13        2754 non-null   int64\n",
      " 32  Krankheit_14        2754 non-null   int64\n",
      " 33  Krankheit_15        2754 non-null   int64\n",
      " 34  Krankheit_16        2754 non-null   int64\n",
      " 35  Krankheit_17        2754 non-null   int64\n",
      " 36  Krankheit_18        2754 non-null   int64\n",
      " 37  Krankheit_19        2754 non-null   int64\n",
      " 38  Krankheit_20        2754 non-null   int64\n",
      " 39  Krankheit_21        2754 non-null   int64\n",
      " 40  Krankheit_22        2754 non-null   int64\n",
      " 41  Krankheit_23        2754 non-null   int64\n",
      " 42  Krankheit_24        2754 non-null   int64\n",
      " 43  Krankheit_25        2754 non-null   int64\n",
      " 44  Krankheit_26        2754 non-null   int64\n",
      " 45  Krankheit_27        2754 non-null   int64\n",
      " 46  Krankheit_28        2754 non-null   int64\n",
      " 47  Krankheit_29        2754 non-null   int64\n",
      " 48  Krankheit_30        2754 non-null   int64\n",
      " 49  Krankheit_31        2754 non-null   int64\n",
      " 50  Krankheit_32        2754 non-null   int64\n",
      " 51  Krankheit_33        2754 non-null   int64\n",
      " 52  Krankheit_34        2754 non-null   int64\n",
      " 53  Krankheit_35        2754 non-null   int64\n",
      " 54  Krankheit_36        2754 non-null   int64\n",
      " 55  Krankheit_37        2754 non-null   int64\n",
      " 56  Krankheit_38        2754 non-null   int64\n",
      " 57  Krankheit_39        2754 non-null   int64\n",
      " 58  Krankheit_40        2754 non-null   int64\n",
      " 59  Krankheit_41        2754 non-null   int64\n",
      " 60  Krankheit_42        2754 non-null   int64\n",
      " 61  Krankheit_43        2754 non-null   int64\n",
      " 62  Krankheit_44        2754 non-null   int64\n",
      " 63  Krankheit_45        2754 non-null   int64\n",
      " 64  Krankheit_46        2754 non-null   int64\n",
      " 65  Krankheit_47        2754 non-null   int64\n",
      " 66  Krankheit_48        2754 non-null   int64\n",
      " 67  Krankheit_49        2754 non-null   int64\n",
      " 68  Krankheit_50        2754 non-null   int64\n",
      " 69  Krankheit_51        2754 non-null   int64\n",
      " 70  Krankheit_52        2754 non-null   int64\n",
      " 71  Krankheit_53        2754 non-null   int64\n",
      " 72  Krankheit_54        2754 non-null   int64\n",
      " 73  Krankheit_55        2754 non-null   int64\n",
      " 74  Krankheit_56        2754 non-null   int64\n",
      " 75  Krankheit_57        2754 non-null   int64\n",
      " 76  Krankheit_58        2754 non-null   int64\n",
      " 77  Krankheit_59        2754 non-null   int64\n",
      " 78  Krankheit_60        2754 non-null   int64\n",
      " 79  Krankheit_61        2754 non-null   int64\n",
      " 80  Krankheit_62        2754 non-null   int64\n",
      " 81  Krankheit_63        2754 non-null   int64\n",
      " 82  Krankheit_64        2754 non-null   int64\n",
      " 83  Krankheit_65        2754 non-null   int64\n",
      " 84  Krankheit_66        2754 non-null   int64\n",
      " 85  Krankheit_67        2754 non-null   int64\n",
      " 86  Krankheit_68        2754 non-null   int64\n",
      " 87  Krankheit_69        2754 non-null   int64\n",
      " 88  Krankheit_70        2754 non-null   int64\n",
      " 89  Krankheit_71        2754 non-null   int64\n",
      " 90  Krankheit_72        2754 non-null   int64\n",
      " 91  Krankheit_73        2754 non-null   int64\n",
      " 92  Krankheit_74        2754 non-null   int64\n",
      " 93  Krankheit_75        2754 non-null   int64\n",
      " 94  Krankheit_76        2754 non-null   int64\n",
      " 95  Krankheit_77        2754 non-null   int64\n",
      " 96  Krankheit_78        2754 non-null   int64\n",
      " 97  Krankheit_79        2754 non-null   int64\n",
      " 98  Krankheit_80        2754 non-null   int64\n",
      " 99  Krankheit_81        2754 non-null   int64\n",
      "dtypes: int64(100)\n",
      "memory usage: 2.1 MB\n"
     ]
    }
   ],
   "source": [
    "df.info()"
   ]
  },
  {
   "cell_type": "code",
   "execution_count": 6,
   "metadata": {},
   "outputs": [
    {
     "data": {
      "text/plain": [
       "0       1\n",
       "1       0\n",
       "2       1\n",
       "3       0\n",
       "4       0\n",
       "       ..\n",
       "2749    1\n",
       "2750    1\n",
       "2751    1\n",
       "2752    1\n",
       "2753    1\n",
       "Name: Stirbt, Length: 2754, dtype: int64"
      ]
     },
     "execution_count": 6,
     "metadata": {},
     "output_type": "execute_result"
    }
   ],
   "source": [
    "df['Stirbt']"
   ]
  },
  {
   "cell_type": "code",
   "execution_count": 7,
   "metadata": {},
   "outputs": [],
   "source": [
    "X = df.drop('Stirbt', axis = 1)\n",
    "\n",
    "y = df['Stirbt']"
   ]
  },
  {
   "cell_type": "code",
   "execution_count": 8,
   "metadata": {},
   "outputs": [],
   "source": [
    "X_train, X_test, y_train, y_test = train_test_split(X,y, test_size=0.33, random_state=40)"
   ]
  },
  {
   "cell_type": "code",
   "execution_count": 9,
   "metadata": {},
   "outputs": [
    {
     "data": {
      "text/plain": [
       "(1845, 99)"
      ]
     },
     "execution_count": 9,
     "metadata": {},
     "output_type": "execute_result"
    }
   ],
   "source": [
    "X_train.shape\n",
    "#X_train = np.array(X_train)\n",
    "#y_train = np.array(y_train)\n",
    "\n",
    "#print(X_train.shape)"
   ]
  },
  {
   "cell_type": "code",
   "execution_count": 10,
   "metadata": {},
   "outputs": [],
   "source": [
    "model = Sequential()\n",
    "\n",
    "model.add(Input(shape=(99,)))\n",
    "model.add(Dense(100,activation= \"sigmoid\"))\n",
    "model.add(Dense(50,activation= \"sigmoid\"))\n",
    "model.add(Dense(1,activation= \"sigmoid\"))\n",
    "\n",
    "model.compile(optimizer=\"rmsprop\",loss = \"binary_crossentropy\",metrics = [\"accuracy\"])\n",
    "\n"
   ]
  },
  {
   "cell_type": "code",
   "execution_count": 11,
   "metadata": {},
   "outputs": [
    {
     "name": "stdout",
     "output_type": "stream",
     "text": [
      "Epoch 1/20\n",
      "\u001b[1m29/29\u001b[0m \u001b[32m━━━━━━━━━━━━━━━━━━━━\u001b[0m\u001b[37m\u001b[0m \u001b[1m0s\u001b[0m 456us/step - accuracy: 0.7985 - loss: 0.4544\n",
      "Epoch 2/20\n",
      "\u001b[1m29/29\u001b[0m \u001b[32m━━━━━━━━━━━━━━━━━━━━\u001b[0m\u001b[37m\u001b[0m \u001b[1m0s\u001b[0m 386us/step - accuracy: 0.8828 - loss: 0.3616\n",
      "Epoch 3/20\n",
      "\u001b[1m29/29\u001b[0m \u001b[32m━━━━━━━━━━━━━━━━━━━━\u001b[0m\u001b[37m\u001b[0m \u001b[1m0s\u001b[0m 412us/step - accuracy: 0.8873 - loss: 0.3499\n",
      "Epoch 4/20\n",
      "\u001b[1m29/29\u001b[0m \u001b[32m━━━━━━━━━━━━━━━━━━━━\u001b[0m\u001b[37m\u001b[0m \u001b[1m0s\u001b[0m 386us/step - accuracy: 0.8891 - loss: 0.3463\n",
      "Epoch 5/20\n",
      "\u001b[1m29/29\u001b[0m \u001b[32m━━━━━━━━━━━━━━━━━━━━\u001b[0m\u001b[37m\u001b[0m \u001b[1m0s\u001b[0m 374us/step - accuracy: 0.8810 - loss: 0.3595\n",
      "Epoch 6/20\n",
      "\u001b[1m29/29\u001b[0m \u001b[32m━━━━━━━━━━━━━━━━━━━━\u001b[0m\u001b[37m\u001b[0m \u001b[1m0s\u001b[0m 399us/step - accuracy: 0.8866 - loss: 0.3445\n",
      "Epoch 7/20\n",
      "\u001b[1m29/29\u001b[0m \u001b[32m━━━━━━━━━━━━━━━━━━━━\u001b[0m\u001b[37m\u001b[0m \u001b[1m0s\u001b[0m 384us/step - accuracy: 0.8791 - loss: 0.3580\n",
      "Epoch 8/20\n",
      "\u001b[1m29/29\u001b[0m \u001b[32m━━━━━━━━━━━━━━━━━━━━\u001b[0m\u001b[37m\u001b[0m \u001b[1m0s\u001b[0m 382us/step - accuracy: 0.8808 - loss: 0.3511\n",
      "Epoch 9/20\n",
      "\u001b[1m29/29\u001b[0m \u001b[32m━━━━━━━━━━━━━━━━━━━━\u001b[0m\u001b[37m\u001b[0m \u001b[1m0s\u001b[0m 374us/step - accuracy: 0.8817 - loss: 0.3435\n",
      "Epoch 10/20\n",
      "\u001b[1m29/29\u001b[0m \u001b[32m━━━━━━━━━━━━━━━━━━━━\u001b[0m\u001b[37m\u001b[0m \u001b[1m0s\u001b[0m 395us/step - accuracy: 0.8884 - loss: 0.3267\n",
      "Epoch 11/20\n",
      "\u001b[1m29/29\u001b[0m \u001b[32m━━━━━━━━━━━━━━━━━━━━\u001b[0m\u001b[37m\u001b[0m \u001b[1m0s\u001b[0m 380us/step - accuracy: 0.8838 - loss: 0.3288\n",
      "Epoch 12/20\n",
      "\u001b[1m29/29\u001b[0m \u001b[32m━━━━━━━━━━━━━━━━━━━━\u001b[0m\u001b[37m\u001b[0m \u001b[1m0s\u001b[0m 417us/step - accuracy: 0.8837 - loss: 0.3196\n",
      "Epoch 13/20\n",
      "\u001b[1m29/29\u001b[0m \u001b[32m━━━━━━━━━━━━━━━━━━━━\u001b[0m\u001b[37m\u001b[0m \u001b[1m0s\u001b[0m 401us/step - accuracy: 0.8789 - loss: 0.3196\n",
      "Epoch 14/20\n",
      "\u001b[1m29/29\u001b[0m \u001b[32m━━━━━━━━━━━━━━━━━━━━\u001b[0m\u001b[37m\u001b[0m \u001b[1m0s\u001b[0m 373us/step - accuracy: 0.8840 - loss: 0.3004\n",
      "Epoch 15/20\n",
      "\u001b[1m29/29\u001b[0m \u001b[32m━━━━━━━━━━━━━━━━━━━━\u001b[0m\u001b[37m\u001b[0m \u001b[1m0s\u001b[0m 372us/step - accuracy: 0.8691 - loss: 0.3127\n",
      "Epoch 16/20\n",
      "\u001b[1m29/29\u001b[0m \u001b[32m━━━━━━━━━━━━━━━━━━━━\u001b[0m\u001b[37m\u001b[0m \u001b[1m0s\u001b[0m 389us/step - accuracy: 0.8936 - loss: 0.2554\n",
      "Epoch 17/20\n",
      "\u001b[1m29/29\u001b[0m \u001b[32m━━━━━━━━━━━━━━━━━━━━\u001b[0m\u001b[37m\u001b[0m \u001b[1m0s\u001b[0m 375us/step - accuracy: 0.8868 - loss: 0.2555\n",
      "Epoch 18/20\n",
      "\u001b[1m29/29\u001b[0m \u001b[32m━━━━━━━━━━━━━━━━━━━━\u001b[0m\u001b[37m\u001b[0m \u001b[1m0s\u001b[0m 383us/step - accuracy: 0.8898 - loss: 0.2415\n",
      "Epoch 19/20\n",
      "\u001b[1m29/29\u001b[0m \u001b[32m━━━━━━━━━━━━━━━━━━━━\u001b[0m\u001b[37m\u001b[0m \u001b[1m0s\u001b[0m 395us/step - accuracy: 0.8986 - loss: 0.2179\n",
      "Epoch 20/20\n",
      "\u001b[1m29/29\u001b[0m \u001b[32m━━━━━━━━━━━━━━━━━━━━\u001b[0m\u001b[37m\u001b[0m \u001b[1m0s\u001b[0m 382us/step - accuracy: 0.8989 - loss: 0.2105\n"
     ]
    },
    {
     "data": {
      "text/plain": [
       "<keras.src.callbacks.history.History at 0x312ee0d70>"
      ]
     },
     "execution_count": 11,
     "metadata": {},
     "output_type": "execute_result"
    }
   ],
   "source": [
    "model.fit(X_train, y_train, epochs=20, batch_size=64)"
   ]
  },
  {
   "cell_type": "code",
   "execution_count": 12,
   "metadata": {},
   "outputs": [
    {
     "data": {
      "text/html": [
       "<pre style=\"white-space:pre;overflow-x:auto;line-height:normal;font-family:Menlo,'DejaVu Sans Mono',consolas,'Courier New',monospace\"><span style=\"font-weight: bold\">Model: \"sequential\"</span>\n",
       "</pre>\n"
      ],
      "text/plain": [
       "\u001b[1mModel: \"sequential\"\u001b[0m\n"
      ]
     },
     "metadata": {},
     "output_type": "display_data"
    },
    {
     "data": {
      "text/html": [
       "<pre style=\"white-space:pre;overflow-x:auto;line-height:normal;font-family:Menlo,'DejaVu Sans Mono',consolas,'Courier New',monospace\">┏━━━━━━━━━━━━━━━━━━━━━━━━━━━━━━━━━┳━━━━━━━━━━━━━━━━━━━━━━━━┳━━━━━━━━━━━━━━━┓\n",
       "┃<span style=\"font-weight: bold\"> Layer (type)                    </span>┃<span style=\"font-weight: bold\"> Output Shape           </span>┃<span style=\"font-weight: bold\">       Param # </span>┃\n",
       "┡━━━━━━━━━━━━━━━━━━━━━━━━━━━━━━━━━╇━━━━━━━━━━━━━━━━━━━━━━━━╇━━━━━━━━━━━━━━━┩\n",
       "│ dense (<span style=\"color: #0087ff; text-decoration-color: #0087ff\">Dense</span>)                   │ (<span style=\"color: #00d7ff; text-decoration-color: #00d7ff\">None</span>, <span style=\"color: #00af00; text-decoration-color: #00af00\">100</span>)            │        <span style=\"color: #00af00; text-decoration-color: #00af00\">10,000</span> │\n",
       "├─────────────────────────────────┼────────────────────────┼───────────────┤\n",
       "│ dense_1 (<span style=\"color: #0087ff; text-decoration-color: #0087ff\">Dense</span>)                 │ (<span style=\"color: #00d7ff; text-decoration-color: #00d7ff\">None</span>, <span style=\"color: #00af00; text-decoration-color: #00af00\">50</span>)             │         <span style=\"color: #00af00; text-decoration-color: #00af00\">5,050</span> │\n",
       "├─────────────────────────────────┼────────────────────────┼───────────────┤\n",
       "│ dense_2 (<span style=\"color: #0087ff; text-decoration-color: #0087ff\">Dense</span>)                 │ (<span style=\"color: #00d7ff; text-decoration-color: #00d7ff\">None</span>, <span style=\"color: #00af00; text-decoration-color: #00af00\">1</span>)              │            <span style=\"color: #00af00; text-decoration-color: #00af00\">51</span> │\n",
       "└─────────────────────────────────┴────────────────────────┴───────────────┘\n",
       "</pre>\n"
      ],
      "text/plain": [
       "┏━━━━━━━━━━━━━━━━━━━━━━━━━━━━━━━━━┳━━━━━━━━━━━━━━━━━━━━━━━━┳━━━━━━━━━━━━━━━┓\n",
       "┃\u001b[1m \u001b[0m\u001b[1mLayer (type)                   \u001b[0m\u001b[1m \u001b[0m┃\u001b[1m \u001b[0m\u001b[1mOutput Shape          \u001b[0m\u001b[1m \u001b[0m┃\u001b[1m \u001b[0m\u001b[1m      Param #\u001b[0m\u001b[1m \u001b[0m┃\n",
       "┡━━━━━━━━━━━━━━━━━━━━━━━━━━━━━━━━━╇━━━━━━━━━━━━━━━━━━━━━━━━╇━━━━━━━━━━━━━━━┩\n",
       "│ dense (\u001b[38;5;33mDense\u001b[0m)                   │ (\u001b[38;5;45mNone\u001b[0m, \u001b[38;5;34m100\u001b[0m)            │        \u001b[38;5;34m10,000\u001b[0m │\n",
       "├─────────────────────────────────┼────────────────────────┼───────────────┤\n",
       "│ dense_1 (\u001b[38;5;33mDense\u001b[0m)                 │ (\u001b[38;5;45mNone\u001b[0m, \u001b[38;5;34m50\u001b[0m)             │         \u001b[38;5;34m5,050\u001b[0m │\n",
       "├─────────────────────────────────┼────────────────────────┼───────────────┤\n",
       "│ dense_2 (\u001b[38;5;33mDense\u001b[0m)                 │ (\u001b[38;5;45mNone\u001b[0m, \u001b[38;5;34m1\u001b[0m)              │            \u001b[38;5;34m51\u001b[0m │\n",
       "└─────────────────────────────────┴────────────────────────┴───────────────┘\n"
      ]
     },
     "metadata": {},
     "output_type": "display_data"
    },
    {
     "data": {
      "text/html": [
       "<pre style=\"white-space:pre;overflow-x:auto;line-height:normal;font-family:Menlo,'DejaVu Sans Mono',consolas,'Courier New',monospace\"><span style=\"font-weight: bold\"> Total params: </span><span style=\"color: #00af00; text-decoration-color: #00af00\">30,204</span> (117.99 KB)\n",
       "</pre>\n"
      ],
      "text/plain": [
       "\u001b[1m Total params: \u001b[0m\u001b[38;5;34m30,204\u001b[0m (117.99 KB)\n"
      ]
     },
     "metadata": {},
     "output_type": "display_data"
    },
    {
     "data": {
      "text/html": [
       "<pre style=\"white-space:pre;overflow-x:auto;line-height:normal;font-family:Menlo,'DejaVu Sans Mono',consolas,'Courier New',monospace\"><span style=\"font-weight: bold\"> Trainable params: </span><span style=\"color: #00af00; text-decoration-color: #00af00\">15,101</span> (58.99 KB)\n",
       "</pre>\n"
      ],
      "text/plain": [
       "\u001b[1m Trainable params: \u001b[0m\u001b[38;5;34m15,101\u001b[0m (58.99 KB)\n"
      ]
     },
     "metadata": {},
     "output_type": "display_data"
    },
    {
     "data": {
      "text/html": [
       "<pre style=\"white-space:pre;overflow-x:auto;line-height:normal;font-family:Menlo,'DejaVu Sans Mono',consolas,'Courier New',monospace\"><span style=\"font-weight: bold\"> Non-trainable params: </span><span style=\"color: #00af00; text-decoration-color: #00af00\">0</span> (0.00 B)\n",
       "</pre>\n"
      ],
      "text/plain": [
       "\u001b[1m Non-trainable params: \u001b[0m\u001b[38;5;34m0\u001b[0m (0.00 B)\n"
      ]
     },
     "metadata": {},
     "output_type": "display_data"
    },
    {
     "data": {
      "text/html": [
       "<pre style=\"white-space:pre;overflow-x:auto;line-height:normal;font-family:Menlo,'DejaVu Sans Mono',consolas,'Courier New',monospace\"><span style=\"font-weight: bold\"> Optimizer params: </span><span style=\"color: #00af00; text-decoration-color: #00af00\">15,103</span> (59.00 KB)\n",
       "</pre>\n"
      ],
      "text/plain": [
       "\u001b[1m Optimizer params: \u001b[0m\u001b[38;5;34m15,103\u001b[0m (59.00 KB)\n"
      ]
     },
     "metadata": {},
     "output_type": "display_data"
    }
   ],
   "source": [
    "model.summary()"
   ]
  },
  {
   "cell_type": "code",
   "execution_count": 13,
   "metadata": {},
   "outputs": [
    {
     "name": "stdout",
     "output_type": "stream",
     "text": [
      "\u001b[1m29/29\u001b[0m \u001b[32m━━━━━━━━━━━━━━━━━━━━\u001b[0m\u001b[37m\u001b[0m \u001b[1m0s\u001b[0m 293us/step - accuracy: 0.9009 - loss: 0.1966\n"
     ]
    },
    {
     "data": {
      "text/plain": [
       "[0.1956855058670044, 0.8998900055885315]"
      ]
     },
     "execution_count": 13,
     "metadata": {},
     "output_type": "execute_result"
    }
   ],
   "source": [
    "model.evaluate(X_test,y_test)"
   ]
  },
  {
   "cell_type": "code",
   "execution_count": 18,
   "metadata": {},
   "outputs": [],
   "source": [
    "input_data = [1,0,0,1,0,0,0,0,0,0,0,0,0,0,0,0,0,0,1,0,0,0,0,0,0,0,0,0,0,0,0,0,0,0,0,0,0,0,0,0,0,0,0,0,0,0,0,0,0,0,0,0,0,0,0,0,0,0,0,0,0,0,0,0,0,0,0,0,0,0,0,0,0,0,0,0,0,0,0,0,0,0,0,0,0,0,0,0,0,0,0,0,0,0,0,0,0,0,0]\n",
    "\n",
    "input_data = np.array(input_data).reshape(1, -1)"
   ]
  },
  {
   "cell_type": "code",
   "execution_count": 19,
   "metadata": {},
   "outputs": [
    {
     "name": "stdout",
     "output_type": "stream",
     "text": [
      "\u001b[1m1/1\u001b[0m \u001b[32m━━━━━━━━━━━━━━━━━━━━\u001b[0m\u001b[37m\u001b[0m \u001b[1m0s\u001b[0m 11ms/step\n"
     ]
    },
    {
     "data": {
      "text/plain": [
       "array([[0.7381305]], dtype=float32)"
      ]
     },
     "execution_count": 19,
     "metadata": {},
     "output_type": "execute_result"
    }
   ],
   "source": [
    "model.predict(input_data)\n"
   ]
  },
  {
   "cell_type": "markdown",
   "metadata": {},
   "source": []
  }
 ],
 "metadata": {
  "kernelspec": {
   "display_name": "Python 3",
   "language": "python",
   "name": "python3"
  },
  "language_info": {
   "codemirror_mode": {
    "name": "ipython",
    "version": 3
   },
   "file_extension": ".py",
   "mimetype": "text/x-python",
   "name": "python",
   "nbconvert_exporter": "python",
   "pygments_lexer": "ipython3",
   "version": "3.12.4"
  }
 },
 "nbformat": 4,
 "nbformat_minor": 2
}
